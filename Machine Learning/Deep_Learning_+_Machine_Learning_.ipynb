{
  "nbformat": 4,
  "nbformat_minor": 0,
  "metadata": {
    "colab": {
      "provenance": []
    },
    "kernelspec": {
      "name": "python3",
      "display_name": "Python 3"
    },
    "language_info": {
      "name": "python"
    }
  },
  "cells": [
    {
      "cell_type": "code",
      "execution_count": null,
      "metadata": {
        "id": "wNG6MfIzs5dv"
      },
      "outputs": [],
      "source": [
        "# Data Visualization --> Graphing\n",
        "# Libary --> numpy, matplotlib (graphing)\n",
        "\n",
        "# Machine Leaning --> subfield of ai that allows the computer to learn something from data --> statistical method\n",
        "# Deep learning (neutral network) --> it is another subfield of AI which utilizes artifical neural networks which contains multiple layers --> mimicing human train of thought\n",
        "# Its advantages: it is ore accurate and has better AI performance than ML in complicated tasks\n",
        "# Its disadvantages: its more difficult to implement + it usually has a larger model (takes up more storage)\n",
        "\n",
        "Deep Learning can be used to filter out spam emails to keep inboxes tidy --> we are imitating human performance (not a rigorous task)\n",
        "Machine Learning is used to perform medical diagnosis --> ml > dl because medical diagnosis predominantly involves quantitative data\n",
        "Deep Learning can be used to programe autopilot cars --> much safer to use dl instead of ml because companies would be expected to perfect their car prototype\n",
        "Machine Learning can be used for predicting stocks --> quantitative data\n",
        "\n"
      ]
    }
  ]
}