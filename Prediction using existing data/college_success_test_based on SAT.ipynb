{
  "nbformat": 4,
  "nbformat_minor": 0,
  "metadata": {
    "colab": {
      "provenance": []
    },
    "kernelspec": {
      "name": "python3",
      "display_name": "Python 3"
    },
    "language_info": {
      "name": "python"
    }
  },
  "cells": [
    {
      "cell_type": "code",
      "execution_count": null,
      "metadata": {
        "colab": {
          "base_uri": "https://localhost:8080/"
        },
        "id": "yPzALkKLr9pk",
        "outputId": "a0ae06ce-6e11-49ab-e8db-cbe83aee44fa"
      },
      "outputs": [
        {
          "output_type": "stream",
          "name": "stdout",
          "text": [
            "Whats your name?d\n",
            "Whats your SAT score? (Write 0 if none)3\n",
            "What college do you want to go to?California State Polytechnic University-Pomona\n",
            "Hi d, let's estimate your the percentage you will get into California State Polytechnic University-Pomona.\n",
            "Based on your SAT score, your estimated chance of admission is 36.5%\n"
          ]
        }
      ],
      "source": [
        "import pandas as pd\n",
        "\n",
        "df = pd.read_csv(\"Data-Table 1.csv\")\n",
        "\n",
        "df = df[[\n",
        "    \"Name\", \"Applicants total\", \"Admissions total\",\n",
        "    \"SAT Critical Reading 25th percentile score\",\n",
        "    \"SAT Critical Reading 75th percentile score\",\n",
        "    \"SAT Math 25th percentile score\",\n",
        "    \"SAT Math 75th percentile score\"\n",
        "]]\n",
        "\n",
        "name = str(input(\"Whats your name?\"))\n",
        "sat = int(input(\"Whats your SAT score? (Write 0 if none)\"))\n",
        "college = str(input(\"What college do you want to go to?\"))\n",
        "\n",
        "print(f\"Hi {name}, let's estimate your the percentage you will get into {college}.\")\n",
        "\n",
        "row = df[df[\"Name\"].str.lower() == college.lower()]\n",
        "\n",
        "if row.empty:\n",
        "    print(\"Sorry, that college was not found in the dataset.\")\n",
        "else:\n",
        "    row = row.iloc[0]\n",
        "    avg_admit_rate = row[\"Admissions total\"] / row[\"Applicants total\"]\n",
        "\n",
        "if sat == 0:\n",
        "        print(f\"Based on general admission stats, your estimated chance is {avg_admit_rate*100:.1f}%\")\n",
        "else:\n",
        "    reading_range = (row[\"SAT Critical Reading 25th percentile score\"], row[\"SAT Critical Reading 75th percentile score\"])\n",
        "    math_range = (row[\"SAT Math 25th percentile score\"], row[\"SAT Math 75th percentile score\"])\n",
        "    low = reading_range[0] + math_range[0]\n",
        "    high = reading_range[1] + math_range[1]\n",
        "    if sat < low:\n",
        "         multiplier = 0.7\n",
        "    elif sat > high:\n",
        "            multiplier = 1.2\n",
        "    else:\n",
        "            midpoint = (low + high) / 2\n",
        "            if sat < midpoint:\n",
        "                multiplier = 0.9\n",
        "            else:\n",
        "                multiplier = 1.1\n",
        "\n",
        "estimated_chance = avg_admit_rate * multiplier\n",
        "estimated_chance = min(1.0, max(0.0, estimated_chance))  # Cap between 0% and 100%\n",
        "print(f\"Based on your SAT score, your estimated chance of admission is {estimated_chance*100:.1f}%\")\n",
        "\n",
        "\n"
      ]
    }
  ]
}